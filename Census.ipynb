{
 "cells": [
  {
   "cell_type": "markdown",
   "metadata": {},
   "source": [
    "# 2.Use case : 2                         (2011 IndiaCensus)"
   ]
  },
  {
   "cell_type": "code",
   "execution_count": 24,
   "metadata": {},
   "outputs": [],
   "source": [
    "# Load the dataset "
   ]
  },
  {
   "cell_type": "code",
   "execution_count": 25,
   "metadata": {},
   "outputs": [],
   "source": [
    "import pandas as pd\n",
    "import numpy as np"
   ]
  },
  {
   "cell_type": "code",
   "execution_count": 26,
   "metadata": {},
   "outputs": [],
   "source": [
    "census = pd.read_csv(\"./dataset/india-districts-census-2011.csv\")\n",
    "data = census"
   ]
  },
  {
   "cell_type": "code",
   "execution_count": 27,
   "metadata": {},
   "outputs": [],
   "source": [
    "df = pd.DataFrame(data)"
   ]
  },
  {
   "cell_type": "code",
   "execution_count": 28,
   "metadata": {},
   "outputs": [
    {
     "data": {
      "text/plain": [
       "118"
      ]
     },
     "execution_count": 28,
     "metadata": {},
     "output_type": "execute_result"
    }
   ],
   "source": [
    "len(df.columns)"
   ]
  },
  {
   "cell_type": "code",
   "execution_count": 29,
   "metadata": {},
   "outputs": [],
   "source": [
    "#1. Create a geographic map of states with low literacy rates."
   ]
  },
  {
   "cell_type": "code",
   "execution_count": 30,
   "metadata": {},
   "outputs": [
    {
     "data": {
      "text/plain": [
       "['District code',\n",
       " 'State name',\n",
       " 'District name',\n",
       " 'Population',\n",
       " 'Male',\n",
       " 'Female',\n",
       " 'Literate',\n",
       " 'Male_Literate',\n",
       " 'Female_Literate',\n",
       " 'SC',\n",
       " 'Male_SC',\n",
       " 'Female_SC',\n",
       " 'ST',\n",
       " 'Male_ST',\n",
       " 'Female_ST',\n",
       " 'Workers',\n",
       " 'Male_Workers',\n",
       " 'Female_Workers',\n",
       " 'Main_Workers',\n",
       " 'Marginal_Workers',\n",
       " 'Non_Workers',\n",
       " 'Cultivator_Workers',\n",
       " 'Agricultural_Workers',\n",
       " 'Household_Workers',\n",
       " 'Other_Workers',\n",
       " 'Hindus',\n",
       " 'Muslims',\n",
       " 'Christians',\n",
       " 'Sikhs',\n",
       " 'Buddhists',\n",
       " 'Jains',\n",
       " 'Others_Religions',\n",
       " 'Religion_Not_Stated',\n",
       " 'LPG_or_PNG_Households',\n",
       " 'Housholds_with_Electric_Lighting',\n",
       " 'Households_with_Internet',\n",
       " 'Households_with_Computer',\n",
       " 'Rural_Households',\n",
       " 'Urban_Households',\n",
       " 'Households',\n",
       " 'Below_Primary_Education',\n",
       " 'Primary_Education',\n",
       " 'Middle_Education',\n",
       " 'Secondary_Education',\n",
       " 'Higher_Education',\n",
       " 'Graduate_Education',\n",
       " 'Other_Education',\n",
       " 'Literate_Education',\n",
       " 'Illiterate_Education',\n",
       " 'Total_Education',\n",
       " 'Age_Group_0_29',\n",
       " 'Age_Group_30_49',\n",
       " 'Age_Group_50',\n",
       " 'Age not stated',\n",
       " 'Households_with_Bicycle',\n",
       " 'Households_with_Car_Jeep_Van',\n",
       " 'Households_with_Radio_Transistor',\n",
       " 'Households_with_Scooter_Motorcycle_Moped',\n",
       " 'Households_with_Telephone_Mobile_Phone_Landline_only',\n",
       " 'Households_with_Telephone_Mobile_Phone_Mobile_only',\n",
       " 'Households_with_TV_Computer_Laptop_Telephone_mobile_phone_and_Scooter_Car',\n",
       " 'Households_with_Television',\n",
       " 'Households_with_Telephone_Mobile_Phone',\n",
       " 'Households_with_Telephone_Mobile_Phone_Both',\n",
       " 'Condition_of_occupied_census_houses_Dilapidated_Households',\n",
       " 'Households_with_separate_kitchen_Cooking_inside_house',\n",
       " 'Having_bathing_facility_Total_Households',\n",
       " 'Having_latrine_facility_within_the_premises_Total_Households',\n",
       " 'Ownership_Owned_Households',\n",
       " 'Ownership_Rented_Households',\n",
       " 'Type_of_bathing_facility_Enclosure_without_roof_Households',\n",
       " 'Type_of_fuel_used_for_cooking_Any_other_Households',\n",
       " 'Type_of_latrine_facility_Pit_latrine_Households',\n",
       " 'Type_of_latrine_facility_Other_latrine_Households',\n",
       " 'Type_of_latrine_facility_Night_soil_disposed_into_open_drain_Households',\n",
       " 'Type_of_latrine_facility_Flush_pour_flush_latrine_connected_to_other_system_Households',\n",
       " 'Not_having_bathing_facility_within_the_premises_Total_Households',\n",
       " 'Not_having_latrine_facility_within_the_premises_Alternative_source_Open_Households',\n",
       " 'Main_source_of_drinking_water_Un_covered_well_Households',\n",
       " 'Main_source_of_drinking_water_Handpump_Tubewell_Borewell_Households',\n",
       " 'Main_source_of_drinking_water_Spring_Households',\n",
       " 'Main_source_of_drinking_water_River_Canal_Households',\n",
       " 'Main_source_of_drinking_water_Other_sources_Households',\n",
       " 'Main_source_of_drinking_water_Other_sources_Spring_River_Canal_Tank_Pond_Lake_Other_sources__Households',\n",
       " 'Location_of_drinking_water_source_Near_the_premises_Households',\n",
       " 'Location_of_drinking_water_source_Within_the_premises_Households',\n",
       " 'Main_source_of_drinking_water_Tank_Pond_Lake_Households',\n",
       " 'Main_source_of_drinking_water_Tapwater_Households',\n",
       " 'Main_source_of_drinking_water_Tubewell_Borehole_Households',\n",
       " 'Household_size_1_person_Households',\n",
       " 'Household_size_2_persons_Households',\n",
       " 'Household_size_1_to_2_persons',\n",
       " 'Household_size_3_persons_Households',\n",
       " 'Household_size_3_to_5_persons_Households',\n",
       " 'Household_size_4_persons_Households',\n",
       " 'Household_size_5_persons_Households',\n",
       " 'Household_size_6_8_persons_Households',\n",
       " 'Household_size_9_persons_and_above_Households',\n",
       " 'Location_of_drinking_water_source_Away_Households',\n",
       " 'Married_couples_1_Households',\n",
       " 'Married_couples_2_Households',\n",
       " 'Married_couples_3_Households',\n",
       " 'Married_couples_3_or_more_Households',\n",
       " 'Married_couples_4_Households',\n",
       " 'Married_couples_5__Households',\n",
       " 'Married_couples_None_Households',\n",
       " 'Power_Parity_Less_than_Rs_45000',\n",
       " 'Power_Parity_Rs_45000_90000',\n",
       " 'Power_Parity_Rs_90000_150000',\n",
       " 'Power_Parity_Rs_45000_150000',\n",
       " 'Power_Parity_Rs_150000_240000',\n",
       " 'Power_Parity_Rs_240000_330000',\n",
       " 'Power_Parity_Rs_150000_330000',\n",
       " 'Power_Parity_Rs_330000_425000',\n",
       " 'Power_Parity_Rs_425000_545000',\n",
       " 'Power_Parity_Rs_330000_545000',\n",
       " 'Power_Parity_Above_Rs_545000',\n",
       " 'Total_Power_Parity']"
      ]
     },
     "execution_count": 30,
     "metadata": {},
     "output_type": "execute_result"
    }
   ],
   "source": [
    "list(df)"
   ]
  },
  {
   "cell_type": "code",
   "execution_count": 31,
   "metadata": {},
   "outputs": [
    {
     "data": {
      "text/plain": [
       "0    405015\n",
       "1    374972\n",
       "2     75493\n",
       "Name: Literate_Education, dtype: int64"
      ]
     },
     "execution_count": 31,
     "metadata": {},
     "output_type": "execute_result"
    }
   ],
   "source": [
    "(df.Literate_Education).head(3)"
   ]
  },
  {
   "cell_type": "code",
   "execution_count": 32,
   "metadata": {},
   "outputs": [],
   "source": [
    "temp= df[['State name','Population','Literate']]"
   ]
  },
  {
   "cell_type": "code",
   "execution_count": 33,
   "metadata": {},
   "outputs": [
    {
     "data": {
      "text/plain": [
       "['State name', 'Population', 'Literate']"
      ]
     },
     "execution_count": 33,
     "metadata": {},
     "output_type": "execute_result"
    }
   ],
   "source": [
    "list(temp)"
   ]
  },
  {
   "cell_type": "code",
   "execution_count": 34,
   "metadata": {},
   "outputs": [],
   "source": [
    "state = list(temp['State name'].unique())"
   ]
  },
  {
   "cell_type": "code",
   "execution_count": 35,
   "metadata": {},
   "outputs": [
    {
     "data": {
      "text/html": [
       "<div>\n",
       "<table border=\"1\" class=\"dataframe\">\n",
       "  <thead>\n",
       "    <tr style=\"text-align: right;\">\n",
       "      <th></th>\n",
       "      <th>State name</th>\n",
       "      <th>Population</th>\n",
       "      <th>Literate</th>\n",
       "    </tr>\n",
       "  </thead>\n",
       "  <tbody>\n",
       "    <tr>\n",
       "      <th>22</th>\n",
       "      <td>HIMACHAL PRADESH</td>\n",
       "      <td>519080</td>\n",
       "      <td>323842</td>\n",
       "    </tr>\n",
       "    <tr>\n",
       "      <th>23</th>\n",
       "      <td>HIMACHAL PRADESH</td>\n",
       "      <td>1510075</td>\n",
       "      <td>1152640</td>\n",
       "    </tr>\n",
       "    <tr>\n",
       "      <th>24</th>\n",
       "      <td>HIMACHAL PRADESH</td>\n",
       "      <td>31564</td>\n",
       "      <td>21845</td>\n",
       "    </tr>\n",
       "    <tr>\n",
       "      <th>25</th>\n",
       "      <td>HIMACHAL PRADESH</td>\n",
       "      <td>437903</td>\n",
       "      <td>307672</td>\n",
       "    </tr>\n",
       "    <tr>\n",
       "      <th>26</th>\n",
       "      <td>HIMACHAL PRADESH</td>\n",
       "      <td>999777</td>\n",
       "      <td>723747</td>\n",
       "    </tr>\n",
       "    <tr>\n",
       "      <th>27</th>\n",
       "      <td>HIMACHAL PRADESH</td>\n",
       "      <td>454768</td>\n",
       "      <td>358091</td>\n",
       "    </tr>\n",
       "    <tr>\n",
       "      <th>28</th>\n",
       "      <td>HIMACHAL PRADESH</td>\n",
       "      <td>521173</td>\n",
       "      <td>399715</td>\n",
       "    </tr>\n",
       "    <tr>\n",
       "      <th>29</th>\n",
       "      <td>HIMACHAL PRADESH</td>\n",
       "      <td>381956</td>\n",
       "      <td>287620</td>\n",
       "    </tr>\n",
       "    <tr>\n",
       "      <th>30</th>\n",
       "      <td>HIMACHAL PRADESH</td>\n",
       "      <td>580320</td>\n",
       "      <td>428578</td>\n",
       "    </tr>\n",
       "    <tr>\n",
       "      <th>31</th>\n",
       "      <td>HIMACHAL PRADESH</td>\n",
       "      <td>529855</td>\n",
       "      <td>362645</td>\n",
       "    </tr>\n",
       "    <tr>\n",
       "      <th>32</th>\n",
       "      <td>HIMACHAL PRADESH</td>\n",
       "      <td>814010</td>\n",
       "      <td>612642</td>\n",
       "    </tr>\n",
       "    <tr>\n",
       "      <th>33</th>\n",
       "      <td>HIMACHAL PRADESH</td>\n",
       "      <td>84121</td>\n",
       "      <td>60699</td>\n",
       "    </tr>\n",
       "  </tbody>\n",
       "</table>\n",
       "</div>"
      ],
      "text/plain": [
       "          State name  Population  Literate\n",
       "22  HIMACHAL PRADESH      519080    323842\n",
       "23  HIMACHAL PRADESH     1510075   1152640\n",
       "24  HIMACHAL PRADESH       31564     21845\n",
       "25  HIMACHAL PRADESH      437903    307672\n",
       "26  HIMACHAL PRADESH      999777    723747\n",
       "27  HIMACHAL PRADESH      454768    358091\n",
       "28  HIMACHAL PRADESH      521173    399715\n",
       "29  HIMACHAL PRADESH      381956    287620\n",
       "30  HIMACHAL PRADESH      580320    428578\n",
       "31  HIMACHAL PRADESH      529855    362645\n",
       "32  HIMACHAL PRADESH      814010    612642\n",
       "33  HIMACHAL PRADESH       84121     60699"
      ]
     },
     "execution_count": 35,
     "metadata": {},
     "output_type": "execute_result"
    }
   ],
   "source": [
    "temp[temp[\"State name\"]==state[1]]"
   ]
  },
  {
   "cell_type": "code",
   "execution_count": 36,
   "metadata": {},
   "outputs": [],
   "source": [
    "def states_name_pop(name):\n",
    "    state_name =  (temp[temp[\"State name\"]== name])\n",
    "    popul      =  np.sum(state_name[\"Population\"])\n",
    "    literates  =  np.sum(state_name['Literate'])\n",
    "    lr         =  ((np.divide(literates,popul,dtype=float)*100))\n",
    "    return(popul,literates,lr)   "
   ]
  },
  {
   "cell_type": "code",
   "execution_count": 38,
   "metadata": {},
   "outputs": [],
   "source": [
    "combined = []\n",
    "for i in(range(len(state))):\n",
    "    name = state[i]\n",
    "    [popul,literates,lr] = states_name_pop(name)\n",
    "    combined.append([name,popul,literates,lr])\n"
   ]
  },
  {
   "cell_type": "code",
   "execution_count": 39,
   "metadata": {},
   "outputs": [],
   "source": [
    "lr = pd.DataFrame(combined,columns=['state_name','Population','Literates','literacy_rate'])"
   ]
  },
  {
   "cell_type": "code",
   "execution_count": 40,
   "metadata": {},
   "outputs": [
    {
     "data": {
      "text/html": [
       "<div>\n",
       "<table border=\"1\" class=\"dataframe\">\n",
       "  <thead>\n",
       "    <tr style=\"text-align: right;\">\n",
       "      <th></th>\n",
       "      <th>state_name</th>\n",
       "      <th>Population</th>\n",
       "      <th>Literates</th>\n",
       "      <th>literacy_rate</th>\n",
       "    </tr>\n",
       "  </thead>\n",
       "  <tbody>\n",
       "    <tr>\n",
       "      <th>0</th>\n",
       "      <td>JAMMU &amp; KASHMIR</td>\n",
       "      <td>12541302</td>\n",
       "      <td>7067233</td>\n",
       "      <td>56.351669</td>\n",
       "    </tr>\n",
       "    <tr>\n",
       "      <th>1</th>\n",
       "      <td>HIMACHAL PRADESH</td>\n",
       "      <td>6864602</td>\n",
       "      <td>5039736</td>\n",
       "      <td>73.416288</td>\n",
       "    </tr>\n",
       "    <tr>\n",
       "      <th>2</th>\n",
       "      <td>PUNJAB</td>\n",
       "      <td>27743338</td>\n",
       "      <td>18707137</td>\n",
       "      <td>67.429294</td>\n",
       "    </tr>\n",
       "  </tbody>\n",
       "</table>\n",
       "</div>"
      ],
      "text/plain": [
       "         state_name  Population  Literates  literacy_rate\n",
       "0   JAMMU & KASHMIR    12541302    7067233      56.351669\n",
       "1  HIMACHAL PRADESH     6864602    5039736      73.416288\n",
       "2            PUNJAB    27743338   18707137      67.429294"
      ]
     },
     "execution_count": 40,
     "metadata": {},
     "output_type": "execute_result"
    }
   ],
   "source": [
    "lr.head(3)"
   ]
  },
  {
   "cell_type": "code",
   "execution_count": 41,
   "metadata": {},
   "outputs": [],
   "source": [
    "#Considering the low litracy rate to be below average litracy rate "
   ]
  },
  {
   "cell_type": "code",
   "execution_count": 42,
   "metadata": {},
   "outputs": [],
   "source": [
    "treshold_lr = lr['literacy_rate'].mean()"
   ]
  },
  {
   "cell_type": "code",
   "execution_count": 43,
   "metadata": {},
   "outputs": [],
   "source": [
    "#States that are with low litracy rates"
   ]
  },
  {
   "cell_type": "code",
   "execution_count": 44,
   "metadata": {},
   "outputs": [
    {
     "data": {
      "text/html": [
       "<div>\n",
       "<table border=\"1\" class=\"dataframe\">\n",
       "  <thead>\n",
       "    <tr style=\"text-align: right;\">\n",
       "      <th></th>\n",
       "      <th>state_name</th>\n",
       "      <th>Population</th>\n",
       "      <th>Literates</th>\n",
       "      <th>literacy_rate</th>\n",
       "    </tr>\n",
       "  </thead>\n",
       "  <tbody>\n",
       "    <tr>\n",
       "      <th>0</th>\n",
       "      <td>JAMMU &amp; KASHMIR</td>\n",
       "      <td>12541302</td>\n",
       "      <td>7067233</td>\n",
       "      <td>56.351669</td>\n",
       "    </tr>\n",
       "    <tr>\n",
       "      <th>2</th>\n",
       "      <td>PUNJAB</td>\n",
       "      <td>27743338</td>\n",
       "      <td>18707137</td>\n",
       "      <td>67.429294</td>\n",
       "    </tr>\n",
       "    <tr>\n",
       "      <th>5</th>\n",
       "      <td>HARYANA</td>\n",
       "      <td>25351462</td>\n",
       "      <td>16598988</td>\n",
       "      <td>65.475466</td>\n",
       "    </tr>\n",
       "    <tr>\n",
       "      <th>7</th>\n",
       "      <td>RAJASTHAN</td>\n",
       "      <td>68548437</td>\n",
       "      <td>38275282</td>\n",
       "      <td>55.836841</td>\n",
       "    </tr>\n",
       "    <tr>\n",
       "      <th>8</th>\n",
       "      <td>UTTAR PRADESH</td>\n",
       "      <td>199812341</td>\n",
       "      <td>114397555</td>\n",
       "      <td>57.252497</td>\n",
       "    </tr>\n",
       "    <tr>\n",
       "      <th>9</th>\n",
       "      <td>BIHAR</td>\n",
       "      <td>104099452</td>\n",
       "      <td>52504553</td>\n",
       "      <td>50.436916</td>\n",
       "    </tr>\n",
       "    <tr>\n",
       "      <th>11</th>\n",
       "      <td>ARUNACHAL PRADESH</td>\n",
       "      <td>1383727</td>\n",
       "      <td>766005</td>\n",
       "      <td>55.358102</td>\n",
       "    </tr>\n",
       "    <tr>\n",
       "      <th>13</th>\n",
       "      <td>MANIPUR</td>\n",
       "      <td>2855794</td>\n",
       "      <td>1908476</td>\n",
       "      <td>66.828210</td>\n",
       "    </tr>\n",
       "    <tr>\n",
       "      <th>16</th>\n",
       "      <td>MEGHALAYA</td>\n",
       "      <td>2966889</td>\n",
       "      <td>1785005</td>\n",
       "      <td>60.164199</td>\n",
       "    </tr>\n",
       "    <tr>\n",
       "      <th>17</th>\n",
       "      <td>ASSAM</td>\n",
       "      <td>31205576</td>\n",
       "      <td>19177977</td>\n",
       "      <td>61.456892</td>\n",
       "    </tr>\n",
       "    <tr>\n",
       "      <th>18</th>\n",
       "      <td>WEST BENGAL</td>\n",
       "      <td>91276115</td>\n",
       "      <td>61538281</td>\n",
       "      <td>67.419917</td>\n",
       "    </tr>\n",
       "    <tr>\n",
       "      <th>19</th>\n",
       "      <td>JHARKHAND</td>\n",
       "      <td>32988134</td>\n",
       "      <td>18328069</td>\n",
       "      <td>55.559581</td>\n",
       "    </tr>\n",
       "    <tr>\n",
       "      <th>20</th>\n",
       "      <td>ODISHA</td>\n",
       "      <td>41974218</td>\n",
       "      <td>26742595</td>\n",
       "      <td>63.711955</td>\n",
       "    </tr>\n",
       "    <tr>\n",
       "      <th>21</th>\n",
       "      <td>CHHATTISGARH</td>\n",
       "      <td>25545198</td>\n",
       "      <td>15379922</td>\n",
       "      <td>60.206705</td>\n",
       "    </tr>\n",
       "    <tr>\n",
       "      <th>22</th>\n",
       "      <td>MADHYA PRADESH</td>\n",
       "      <td>72626809</td>\n",
       "      <td>42851169</td>\n",
       "      <td>59.001861</td>\n",
       "    </tr>\n",
       "    <tr>\n",
       "      <th>25</th>\n",
       "      <td>DADRA &amp; NAGAR HAVELI</td>\n",
       "      <td>343709</td>\n",
       "      <td>223230</td>\n",
       "      <td>64.947383</td>\n",
       "    </tr>\n",
       "    <tr>\n",
       "      <th>27</th>\n",
       "      <td>ANDHRA PRADESH</td>\n",
       "      <td>84580777</td>\n",
       "      <td>50556760</td>\n",
       "      <td>59.773345</td>\n",
       "    </tr>\n",
       "    <tr>\n",
       "      <th>28</th>\n",
       "      <td>KARNATAKA</td>\n",
       "      <td>61095297</td>\n",
       "      <td>40647322</td>\n",
       "      <td>66.531016</td>\n",
       "    </tr>\n",
       "  </tbody>\n",
       "</table>\n",
       "</div>"
      ],
      "text/plain": [
       "              state_name  Population  Literates  literacy_rate\n",
       "0        JAMMU & KASHMIR    12541302    7067233      56.351669\n",
       "2                 PUNJAB    27743338   18707137      67.429294\n",
       "5                HARYANA    25351462   16598988      65.475466\n",
       "7              RAJASTHAN    68548437   38275282      55.836841\n",
       "8          UTTAR PRADESH   199812341  114397555      57.252497\n",
       "9                  BIHAR   104099452   52504553      50.436916\n",
       "11     ARUNACHAL PRADESH     1383727     766005      55.358102\n",
       "13               MANIPUR     2855794    1908476      66.828210\n",
       "16             MEGHALAYA     2966889    1785005      60.164199\n",
       "17                 ASSAM    31205576   19177977      61.456892\n",
       "18           WEST BENGAL    91276115   61538281      67.419917\n",
       "19             JHARKHAND    32988134   18328069      55.559581\n",
       "20                ODISHA    41974218   26742595      63.711955\n",
       "21          CHHATTISGARH    25545198   15379922      60.206705\n",
       "22        MADHYA PRADESH    72626809   42851169      59.001861\n",
       "25  DADRA & NAGAR HAVELI      343709     223230      64.947383\n",
       "27        ANDHRA PRADESH    84580777   50556760      59.773345\n",
       "28             KARNATAKA    61095297   40647322      66.531016"
      ]
     },
     "execution_count": 44,
     "metadata": {},
     "output_type": "execute_result"
    }
   ],
   "source": [
    "lr[lr['literacy_rate']< treshold_lr]"
   ]
  },
  {
   "cell_type": "code",
   "execution_count": 45,
   "metadata": {},
   "outputs": [],
   "source": [
    "# plotting the litracy rate on map"
   ]
  },
  {
   "cell_type": "markdown",
   "metadata": {},
   "source": [
    "# 2. Find out most similar districts in Bihar and Tamil Nadu. \n",
    "#Similarity can be based on any of the columns from the data."
   ]
  },
  {
   "cell_type": "code",
   "execution_count": 74,
   "metadata": {},
   "outputs": [],
   "source": [
    "br_tn = df"
   ]
  },
  {
   "cell_type": "code",
   "execution_count": 81,
   "metadata": {},
   "outputs": [],
   "source": [
    "temp_br = br_tn[br_tn['State name']=='BIHAR'] \n",
    "temp_tn = br_tn[br_tn['State name']=='TAMIL NADU'] \n"
   ]
  },
  {
   "cell_type": "code",
   "execution_count": 82,
   "metadata": {},
   "outputs": [
    {
     "data": {
      "text/html": [
       "<div>\n",
       "<table border=\"1\" class=\"dataframe\">\n",
       "  <thead>\n",
       "    <tr style=\"text-align: right;\">\n",
       "      <th></th>\n",
       "      <th>District code</th>\n",
       "      <th>State name</th>\n",
       "      <th>District name</th>\n",
       "      <th>Population</th>\n",
       "      <th>Male</th>\n",
       "      <th>Female</th>\n",
       "      <th>Literate</th>\n",
       "      <th>Male_Literate</th>\n",
       "      <th>Female_Literate</th>\n",
       "      <th>SC</th>\n",
       "      <th>...</th>\n",
       "      <th>Power_Parity_Rs_90000_150000</th>\n",
       "      <th>Power_Parity_Rs_45000_150000</th>\n",
       "      <th>Power_Parity_Rs_150000_240000</th>\n",
       "      <th>Power_Parity_Rs_240000_330000</th>\n",
       "      <th>Power_Parity_Rs_150000_330000</th>\n",
       "      <th>Power_Parity_Rs_330000_425000</th>\n",
       "      <th>Power_Parity_Rs_425000_545000</th>\n",
       "      <th>Power_Parity_Rs_330000_545000</th>\n",
       "      <th>Power_Parity_Above_Rs_545000</th>\n",
       "      <th>Total_Power_Parity</th>\n",
       "    </tr>\n",
       "  </thead>\n",
       "  <tbody>\n",
       "    <tr>\n",
       "      <th>202</th>\n",
       "      <td>203</td>\n",
       "      <td>BIHAR</td>\n",
       "      <td>Pashchim Champaran</td>\n",
       "      <td>3935042</td>\n",
       "      <td>2061110</td>\n",
       "      <td>1873932</td>\n",
       "      <td>1759481</td>\n",
       "      <td>1091226</td>\n",
       "      <td>668255</td>\n",
       "      <td>553944</td>\n",
       "      <td>...</td>\n",
       "      <td>621</td>\n",
       "      <td>1968</td>\n",
       "      <td>138</td>\n",
       "      <td>21</td>\n",
       "      <td>159</td>\n",
       "      <td>30</td>\n",
       "      <td>49</td>\n",
       "      <td>79</td>\n",
       "      <td>40</td>\n",
       "      <td>3181</td>\n",
       "    </tr>\n",
       "    <tr>\n",
       "      <th>203</th>\n",
       "      <td>204</td>\n",
       "      <td>BIHAR</td>\n",
       "      <td>Purba Champaran</td>\n",
       "      <td>5099371</td>\n",
       "      <td>2681209</td>\n",
       "      <td>2418162</td>\n",
       "      <td>2276957</td>\n",
       "      <td>1407603</td>\n",
       "      <td>869354</td>\n",
       "      <td>649726</td>\n",
       "      <td>...</td>\n",
       "      <td>797</td>\n",
       "      <td>2551</td>\n",
       "      <td>223</td>\n",
       "      <td>18</td>\n",
       "      <td>241</td>\n",
       "      <td>25</td>\n",
       "      <td>40</td>\n",
       "      <td>65</td>\n",
       "      <td>47</td>\n",
       "      <td>4098</td>\n",
       "    </tr>\n",
       "  </tbody>\n",
       "</table>\n",
       "<p>2 rows × 118 columns</p>\n",
       "</div>"
      ],
      "text/plain": [
       "     District code State name       District name  Population     Male  \\\n",
       "202            203      BIHAR  Pashchim Champaran     3935042  2061110   \n",
       "203            204      BIHAR     Purba Champaran     5099371  2681209   \n",
       "\n",
       "      Female  Literate  Male_Literate  Female_Literate      SC  \\\n",
       "202  1873932   1759481        1091226           668255  553944   \n",
       "203  2418162   2276957        1407603           869354  649726   \n",
       "\n",
       "            ...          Power_Parity_Rs_90000_150000  \\\n",
       "202         ...                                   621   \n",
       "203         ...                                   797   \n",
       "\n",
       "     Power_Parity_Rs_45000_150000  Power_Parity_Rs_150000_240000  \\\n",
       "202                          1968                            138   \n",
       "203                          2551                            223   \n",
       "\n",
       "     Power_Parity_Rs_240000_330000  Power_Parity_Rs_150000_330000  \\\n",
       "202                             21                            159   \n",
       "203                             18                            241   \n",
       "\n",
       "     Power_Parity_Rs_330000_425000  Power_Parity_Rs_425000_545000  \\\n",
       "202                             30                             49   \n",
       "203                             25                             40   \n",
       "\n",
       "     Power_Parity_Rs_330000_545000  Power_Parity_Above_Rs_545000  \\\n",
       "202                             79                            40   \n",
       "203                             65                            47   \n",
       "\n",
       "     Total_Power_Parity  \n",
       "202                3181  \n",
       "203                4098  \n",
       "\n",
       "[2 rows x 118 columns]"
      ]
     },
     "execution_count": 82,
     "metadata": {},
     "output_type": "execute_result"
    }
   ],
   "source": [
    "br.head(2)"
   ]
  },
  {
   "cell_type": "code",
   "execution_count": 116,
   "metadata": {},
   "outputs": [],
   "source": [
    "br = (temp_br[['District name','Population','Literate']])"
   ]
  },
  {
   "cell_type": "code",
   "execution_count": 117,
   "metadata": {},
   "outputs": [],
   "source": [
    "def literacy_rate(pop,lit):\n",
    "    res = float((lit/pop)*100)\n",
    "    return res"
   ]
  },
  {
   "cell_type": "code",
   "execution_count": 122,
   "metadata": {},
   "outputs": [],
   "source": [
    "lit_rate = []\n",
    "for i in range(len(br.index)):\n",
    "               dist = br.iloc[i]\n",
    "               pop  = int(dist[['Population']])\n",
    "               lit  = int(dist[['Literate']])\n",
    "               rate = literacy_rate(pop,lit)\n",
    "               lit_rate.append(rate)\n"
   ]
  },
  {
   "cell_type": "code",
   "execution_count": null,
   "metadata": {},
   "outputs": [],
   "source": []
  }
 ],
 "metadata": {
  "kernelspec": {
   "display_name": "Python 2",
   "language": "python",
   "name": "python2"
  },
  "language_info": {
   "codemirror_mode": {
    "name": "ipython",
    "version": 2
   },
   "file_extension": ".py",
   "mimetype": "text/x-python",
   "name": "python",
   "nbconvert_exporter": "python",
   "pygments_lexer": "ipython2",
   "version": "2.7.12+"
  }
 },
 "nbformat": 4,
 "nbformat_minor": 2
}
