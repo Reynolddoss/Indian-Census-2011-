{
 "cells": [
  {
   "cell_type": "markdown",
   "metadata": {},
   "source": [
    "# 2.Use case : 2                         (2011 IndiaCensus)"
   ]
  },
  {
   "cell_type": "code",
   "execution_count": 1,
   "metadata": {},
   "outputs": [],
   "source": [
    "# Load the dataset "
   ]
  },
  {
   "cell_type": "code",
   "execution_count": 2,
   "metadata": {},
   "outputs": [],
   "source": [
    "import pandas as pd"
   ]
  },
  {
   "cell_type": "code",
   "execution_count": 3,
   "metadata": {},
   "outputs": [],
   "source": [
    "census = pd.read_csv(\"./dataset/india-districts-census-2011.csv\")\n",
    "data = census"
   ]
  },
  {
   "cell_type": "code",
   "execution_count": 4,
   "metadata": {},
   "outputs": [],
   "source": [
    "df = pd.DataFrame(data)"
   ]
  },
  {
   "cell_type": "code",
   "execution_count": 5,
   "metadata": {},
   "outputs": [
    {
     "data": {
      "text/plain": [
       "118"
      ]
     },
     "execution_count": 5,
     "metadata": {},
     "output_type": "execute_result"
    }
   ],
   "source": [
    "len(df.columns)"
   ]
  },
  {
   "cell_type": "code",
   "execution_count": 6,
   "metadata": {},
   "outputs": [],
   "source": [
    "#1. Create a geographic map of states with low literacy rates."
   ]
  },
  {
   "cell_type": "code",
   "execution_count": 7,
   "metadata": {},
   "outputs": [
    {
     "data": {
      "text/plain": [
       "['District code',\n",
       " 'State name',\n",
       " 'District name',\n",
       " 'Population',\n",
       " 'Male',\n",
       " 'Female',\n",
       " 'Literate',\n",
       " 'Male_Literate',\n",
       " 'Female_Literate',\n",
       " 'SC',\n",
       " 'Male_SC',\n",
       " 'Female_SC',\n",
       " 'ST',\n",
       " 'Male_ST',\n",
       " 'Female_ST',\n",
       " 'Workers',\n",
       " 'Male_Workers',\n",
       " 'Female_Workers',\n",
       " 'Main_Workers',\n",
       " 'Marginal_Workers',\n",
       " 'Non_Workers',\n",
       " 'Cultivator_Workers',\n",
       " 'Agricultural_Workers',\n",
       " 'Household_Workers',\n",
       " 'Other_Workers',\n",
       " 'Hindus',\n",
       " 'Muslims',\n",
       " 'Christians',\n",
       " 'Sikhs',\n",
       " 'Buddhists',\n",
       " 'Jains',\n",
       " 'Others_Religions',\n",
       " 'Religion_Not_Stated',\n",
       " 'LPG_or_PNG_Households',\n",
       " 'Housholds_with_Electric_Lighting',\n",
       " 'Households_with_Internet',\n",
       " 'Households_with_Computer',\n",
       " 'Rural_Households',\n",
       " 'Urban_Households',\n",
       " 'Households',\n",
       " 'Below_Primary_Education',\n",
       " 'Primary_Education',\n",
       " 'Middle_Education',\n",
       " 'Secondary_Education',\n",
       " 'Higher_Education',\n",
       " 'Graduate_Education',\n",
       " 'Other_Education',\n",
       " 'Literate_Education',\n",
       " 'Illiterate_Education',\n",
       " 'Total_Education',\n",
       " 'Age_Group_0_29',\n",
       " 'Age_Group_30_49',\n",
       " 'Age_Group_50',\n",
       " 'Age not stated',\n",
       " 'Households_with_Bicycle',\n",
       " 'Households_with_Car_Jeep_Van',\n",
       " 'Households_with_Radio_Transistor',\n",
       " 'Households_with_Scooter_Motorcycle_Moped',\n",
       " 'Households_with_Telephone_Mobile_Phone_Landline_only',\n",
       " 'Households_with_Telephone_Mobile_Phone_Mobile_only',\n",
       " 'Households_with_TV_Computer_Laptop_Telephone_mobile_phone_and_Scooter_Car',\n",
       " 'Households_with_Television',\n",
       " 'Households_with_Telephone_Mobile_Phone',\n",
       " 'Households_with_Telephone_Mobile_Phone_Both',\n",
       " 'Condition_of_occupied_census_houses_Dilapidated_Households',\n",
       " 'Households_with_separate_kitchen_Cooking_inside_house',\n",
       " 'Having_bathing_facility_Total_Households',\n",
       " 'Having_latrine_facility_within_the_premises_Total_Households',\n",
       " 'Ownership_Owned_Households',\n",
       " 'Ownership_Rented_Households',\n",
       " 'Type_of_bathing_facility_Enclosure_without_roof_Households',\n",
       " 'Type_of_fuel_used_for_cooking_Any_other_Households',\n",
       " 'Type_of_latrine_facility_Pit_latrine_Households',\n",
       " 'Type_of_latrine_facility_Other_latrine_Households',\n",
       " 'Type_of_latrine_facility_Night_soil_disposed_into_open_drain_Households',\n",
       " 'Type_of_latrine_facility_Flush_pour_flush_latrine_connected_to_other_system_Households',\n",
       " 'Not_having_bathing_facility_within_the_premises_Total_Households',\n",
       " 'Not_having_latrine_facility_within_the_premises_Alternative_source_Open_Households',\n",
       " 'Main_source_of_drinking_water_Un_covered_well_Households',\n",
       " 'Main_source_of_drinking_water_Handpump_Tubewell_Borewell_Households',\n",
       " 'Main_source_of_drinking_water_Spring_Households',\n",
       " 'Main_source_of_drinking_water_River_Canal_Households',\n",
       " 'Main_source_of_drinking_water_Other_sources_Households',\n",
       " 'Main_source_of_drinking_water_Other_sources_Spring_River_Canal_Tank_Pond_Lake_Other_sources__Households',\n",
       " 'Location_of_drinking_water_source_Near_the_premises_Households',\n",
       " 'Location_of_drinking_water_source_Within_the_premises_Households',\n",
       " 'Main_source_of_drinking_water_Tank_Pond_Lake_Households',\n",
       " 'Main_source_of_drinking_water_Tapwater_Households',\n",
       " 'Main_source_of_drinking_water_Tubewell_Borehole_Households',\n",
       " 'Household_size_1_person_Households',\n",
       " 'Household_size_2_persons_Households',\n",
       " 'Household_size_1_to_2_persons',\n",
       " 'Household_size_3_persons_Households',\n",
       " 'Household_size_3_to_5_persons_Households',\n",
       " 'Household_size_4_persons_Households',\n",
       " 'Household_size_5_persons_Households',\n",
       " 'Household_size_6_8_persons_Households',\n",
       " 'Household_size_9_persons_and_above_Households',\n",
       " 'Location_of_drinking_water_source_Away_Households',\n",
       " 'Married_couples_1_Households',\n",
       " 'Married_couples_2_Households',\n",
       " 'Married_couples_3_Households',\n",
       " 'Married_couples_3_or_more_Households',\n",
       " 'Married_couples_4_Households',\n",
       " 'Married_couples_5__Households',\n",
       " 'Married_couples_None_Households',\n",
       " 'Power_Parity_Less_than_Rs_45000',\n",
       " 'Power_Parity_Rs_45000_90000',\n",
       " 'Power_Parity_Rs_90000_150000',\n",
       " 'Power_Parity_Rs_45000_150000',\n",
       " 'Power_Parity_Rs_150000_240000',\n",
       " 'Power_Parity_Rs_240000_330000',\n",
       " 'Power_Parity_Rs_150000_330000',\n",
       " 'Power_Parity_Rs_330000_425000',\n",
       " 'Power_Parity_Rs_425000_545000',\n",
       " 'Power_Parity_Rs_330000_545000',\n",
       " 'Power_Parity_Above_Rs_545000',\n",
       " 'Total_Power_Parity']"
      ]
     },
     "execution_count": 7,
     "metadata": {},
     "output_type": "execute_result"
    }
   ],
   "source": [
    "list(df)"
   ]
  },
  {
   "cell_type": "code",
   "execution_count": 8,
   "metadata": {},
   "outputs": [
    {
     "data": {
      "text/plain": [
       "0    405015\n",
       "1    374972\n",
       "2     75493\n",
       "Name: Literate_Education, dtype: int64"
      ]
     },
     "execution_count": 8,
     "metadata": {},
     "output_type": "execute_result"
    }
   ],
   "source": [
    "(df.Literate_Education).head(3)"
   ]
  },
  {
   "cell_type": "code",
   "execution_count": 9,
   "metadata": {},
   "outputs": [],
   "source": [
    "lr = df[['State name','Population','Literate']]"
   ]
  },
  {
   "cell_type": "code",
   "execution_count": 10,
   "metadata": {},
   "outputs": [
    {
     "data": {
      "text/plain": [
       "['State name', 'Population', 'Literate']"
      ]
     },
     "execution_count": 10,
     "metadata": {},
     "output_type": "execute_result"
    }
   ],
   "source": [
    "list(lr)"
   ]
  },
  {
   "cell_type": "code",
   "execution_count": 11,
   "metadata": {},
   "outputs": [
    {
     "data": {
      "text/html": [
       "<div>\n",
       "<table border=\"1\" class=\"dataframe\">\n",
       "  <thead>\n",
       "    <tr style=\"text-align: right;\">\n",
       "      <th></th>\n",
       "      <th>State name</th>\n",
       "      <th>Population</th>\n",
       "      <th>Literate</th>\n",
       "    </tr>\n",
       "  </thead>\n",
       "  <tbody>\n",
       "    <tr>\n",
       "      <th>0</th>\n",
       "      <td>JAMMU &amp; KASHMIR</td>\n",
       "      <td>870354</td>\n",
       "      <td>439654</td>\n",
       "    </tr>\n",
       "    <tr>\n",
       "      <th>1</th>\n",
       "      <td>JAMMU &amp; KASHMIR</td>\n",
       "      <td>753745</td>\n",
       "      <td>335649</td>\n",
       "    </tr>\n",
       "    <tr>\n",
       "      <th>2</th>\n",
       "      <td>JAMMU &amp; KASHMIR</td>\n",
       "      <td>133487</td>\n",
       "      <td>93770</td>\n",
       "    </tr>\n",
       "    <tr>\n",
       "      <th>3</th>\n",
       "      <td>JAMMU &amp; KASHMIR</td>\n",
       "      <td>140802</td>\n",
       "      <td>86236</td>\n",
       "    </tr>\n",
       "    <tr>\n",
       "      <th>4</th>\n",
       "      <td>JAMMU &amp; KASHMIR</td>\n",
       "      <td>476835</td>\n",
       "      <td>261724</td>\n",
       "    </tr>\n",
       "  </tbody>\n",
       "</table>\n",
       "</div>"
      ],
      "text/plain": [
       "        State name  Population  Literate\n",
       "0  JAMMU & KASHMIR      870354    439654\n",
       "1  JAMMU & KASHMIR      753745    335649\n",
       "2  JAMMU & KASHMIR      133487     93770\n",
       "3  JAMMU & KASHMIR      140802     86236\n",
       "4  JAMMU & KASHMIR      476835    261724"
      ]
     },
     "execution_count": 11,
     "metadata": {},
     "output_type": "execute_result"
    }
   ],
   "source": [
    "lr.head(5)"
   ]
  },
  {
   "cell_type": "code",
   "execution_count": 12,
   "metadata": {},
   "outputs": [],
   "source": [
    "state = list(lr['State name'].unique())"
   ]
  },
  {
   "cell_type": "code",
   "execution_count": 13,
   "metadata": {},
   "outputs": [
    {
     "data": {
      "text/html": [
       "<div>\n",
       "<table border=\"1\" class=\"dataframe\">\n",
       "  <thead>\n",
       "    <tr style=\"text-align: right;\">\n",
       "      <th></th>\n",
       "      <th>State name</th>\n",
       "      <th>Population</th>\n",
       "      <th>Literate</th>\n",
       "    </tr>\n",
       "  </thead>\n",
       "  <tbody>\n",
       "    <tr>\n",
       "      <th>0</th>\n",
       "      <td>JAMMU &amp; KASHMIR</td>\n",
       "      <td>870354</td>\n",
       "      <td>439654</td>\n",
       "    </tr>\n",
       "    <tr>\n",
       "      <th>1</th>\n",
       "      <td>JAMMU &amp; KASHMIR</td>\n",
       "      <td>753745</td>\n",
       "      <td>335649</td>\n",
       "    </tr>\n",
       "    <tr>\n",
       "      <th>2</th>\n",
       "      <td>JAMMU &amp; KASHMIR</td>\n",
       "      <td>133487</td>\n",
       "      <td>93770</td>\n",
       "    </tr>\n",
       "    <tr>\n",
       "      <th>3</th>\n",
       "      <td>JAMMU &amp; KASHMIR</td>\n",
       "      <td>140802</td>\n",
       "      <td>86236</td>\n",
       "    </tr>\n",
       "    <tr>\n",
       "      <th>4</th>\n",
       "      <td>JAMMU &amp; KASHMIR</td>\n",
       "      <td>476835</td>\n",
       "      <td>261724</td>\n",
       "    </tr>\n",
       "    <tr>\n",
       "      <th>5</th>\n",
       "      <td>JAMMU &amp; KASHMIR</td>\n",
       "      <td>642415</td>\n",
       "      <td>364109</td>\n",
       "    </tr>\n",
       "    <tr>\n",
       "      <th>6</th>\n",
       "      <td>JAMMU &amp; KASHMIR</td>\n",
       "      <td>616435</td>\n",
       "      <td>389204</td>\n",
       "    </tr>\n",
       "    <tr>\n",
       "      <th>7</th>\n",
       "      <td>JAMMU &amp; KASHMIR</td>\n",
       "      <td>1008039</td>\n",
       "      <td>545149</td>\n",
       "    </tr>\n",
       "    <tr>\n",
       "      <th>8</th>\n",
       "      <td>JAMMU &amp; KASHMIR</td>\n",
       "      <td>392232</td>\n",
       "      <td>185979</td>\n",
       "    </tr>\n",
       "    <tr>\n",
       "      <th>9</th>\n",
       "      <td>JAMMU &amp; KASHMIR</td>\n",
       "      <td>1236829</td>\n",
       "      <td>748584</td>\n",
       "    </tr>\n",
       "    <tr>\n",
       "      <th>10</th>\n",
       "      <td>JAMMU &amp; KASHMIR</td>\n",
       "      <td>297446</td>\n",
       "      <td>143276</td>\n",
       "    </tr>\n",
       "    <tr>\n",
       "      <th>11</th>\n",
       "      <td>JAMMU &amp; KASHMIR</td>\n",
       "      <td>560440</td>\n",
       "      <td>293958</td>\n",
       "    </tr>\n",
       "    <tr>\n",
       "      <th>12</th>\n",
       "      <td>JAMMU &amp; KASHMIR</td>\n",
       "      <td>266215</td>\n",
       "      <td>136500</td>\n",
       "    </tr>\n",
       "    <tr>\n",
       "      <th>13</th>\n",
       "      <td>JAMMU &amp; KASHMIR</td>\n",
       "      <td>1078692</td>\n",
       "      <td>545532</td>\n",
       "    </tr>\n",
       "    <tr>\n",
       "      <th>14</th>\n",
       "      <td>JAMMU &amp; KASHMIR</td>\n",
       "      <td>424483</td>\n",
       "      <td>209085</td>\n",
       "    </tr>\n",
       "    <tr>\n",
       "      <th>15</th>\n",
       "      <td>JAMMU &amp; KASHMIR</td>\n",
       "      <td>409936</td>\n",
       "      <td>219083</td>\n",
       "    </tr>\n",
       "    <tr>\n",
       "      <th>16</th>\n",
       "      <td>JAMMU &amp; KASHMIR</td>\n",
       "      <td>283713</td>\n",
       "      <td>124065</td>\n",
       "    </tr>\n",
       "    <tr>\n",
       "      <th>17</th>\n",
       "      <td>JAMMU &amp; KASHMIR</td>\n",
       "      <td>230696</td>\n",
       "      <td>107506</td>\n",
       "    </tr>\n",
       "    <tr>\n",
       "      <th>18</th>\n",
       "      <td>JAMMU &amp; KASHMIR</td>\n",
       "      <td>554985</td>\n",
       "      <td>322354</td>\n",
       "    </tr>\n",
       "    <tr>\n",
       "      <th>19</th>\n",
       "      <td>JAMMU &amp; KASHMIR</td>\n",
       "      <td>314667</td>\n",
       "      <td>150542</td>\n",
       "    </tr>\n",
       "    <tr>\n",
       "      <th>20</th>\n",
       "      <td>JAMMU &amp; KASHMIR</td>\n",
       "      <td>1529958</td>\n",
       "      <td>1137135</td>\n",
       "    </tr>\n",
       "    <tr>\n",
       "      <th>21</th>\n",
       "      <td>JAMMU &amp; KASHMIR</td>\n",
       "      <td>318898</td>\n",
       "      <td>228139</td>\n",
       "    </tr>\n",
       "  </tbody>\n",
       "</table>\n",
       "</div>"
      ],
      "text/plain": [
       "         State name  Population  Literate\n",
       "0   JAMMU & KASHMIR      870354    439654\n",
       "1   JAMMU & KASHMIR      753745    335649\n",
       "2   JAMMU & KASHMIR      133487     93770\n",
       "3   JAMMU & KASHMIR      140802     86236\n",
       "4   JAMMU & KASHMIR      476835    261724\n",
       "5   JAMMU & KASHMIR      642415    364109\n",
       "6   JAMMU & KASHMIR      616435    389204\n",
       "7   JAMMU & KASHMIR     1008039    545149\n",
       "8   JAMMU & KASHMIR      392232    185979\n",
       "9   JAMMU & KASHMIR     1236829    748584\n",
       "10  JAMMU & KASHMIR      297446    143276\n",
       "11  JAMMU & KASHMIR      560440    293958\n",
       "12  JAMMU & KASHMIR      266215    136500\n",
       "13  JAMMU & KASHMIR     1078692    545532\n",
       "14  JAMMU & KASHMIR      424483    209085\n",
       "15  JAMMU & KASHMIR      409936    219083\n",
       "16  JAMMU & KASHMIR      283713    124065\n",
       "17  JAMMU & KASHMIR      230696    107506\n",
       "18  JAMMU & KASHMIR      554985    322354\n",
       "19  JAMMU & KASHMIR      314667    150542\n",
       "20  JAMMU & KASHMIR     1529958   1137135\n",
       "21  JAMMU & KASHMIR      318898    228139"
      ]
     },
     "execution_count": 13,
     "metadata": {},
     "output_type": "execute_result"
    }
   ],
   "source": [
    "lr[lr[\"State name\"]==state[0]]"
   ]
  },
  {
   "cell_type": "code",
   "execution_count": 14,
   "metadata": {},
   "outputs": [
    {
     "ename": "SyntaxError",
     "evalue": "invalid syntax (<ipython-input-14-7b4db838d47c>, line 1)",
     "output_type": "error",
     "traceback": [
      "\u001b[0;36m  File \u001b[0;32m\"<ipython-input-14-7b4db838d47c>\"\u001b[0;36m, line \u001b[0;32m1\u001b[0m\n\u001b[0;31m    for i in range(len(lr['State name']):\u001b[0m\n\u001b[0m                                        ^\u001b[0m\n\u001b[0;31mSyntaxError\u001b[0m\u001b[0;31m:\u001b[0m invalid syntax\n"
     ]
    }
   ],
   "source": [
    "for i in range(len(lr['State name']):\n",
    "               \n",
    "               (lr[lr[\"State name\"]==state[]])"
   ]
  },
  {
   "cell_type": "code",
   "execution_count": null,
   "metadata": {},
   "outputs": [],
   "source": []
  }
 ],
 "metadata": {
  "kernelspec": {
   "display_name": "Python 2",
   "language": "python",
   "name": "python2"
  },
  "language_info": {
   "codemirror_mode": {
    "name": "ipython",
    "version": 2
   },
   "file_extension": ".py",
   "mimetype": "text/x-python",
   "name": "python",
   "nbconvert_exporter": "python",
   "pygments_lexer": "ipython2",
   "version": "2.7.12+"
  }
 },
 "nbformat": 4,
 "nbformat_minor": 2
}
